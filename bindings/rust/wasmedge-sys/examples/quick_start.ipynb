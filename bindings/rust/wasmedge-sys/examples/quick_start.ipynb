{
 "cells": [
  {
   "cell_type": "markdown",
   "metadata": {},
   "source": [
    "## Quick Start"
   ]
  },
  {
   "cell_type": "markdown",
   "metadata": {
    "tags": []
   },
   "source": [
    "### Demo 1: Run a WebAssembly function with WasmEdge Rust APIs\n",
    "\n",
    "As you may know, several mainstream programming languages, such as C/C++, Rust, Go and Python, support to compile their programs into WebAssembly binary. In this demo, we'll introduce how to use WasmEdge Rust APIs to call a WebAssembly function which could be coded in any programming lange mentioned above. \n",
    "\n",
    "We use `fibonacci.wasm` in this demo, and the contents of the WebAssembly file are presented as below. The statement, `(export \"fib\" (func $fib))`, declares an exported function named `fib`. This function computes a fibonacci number with a given `i32` number as input. We'll use the function name later to achieve the goal of computing a fibonacci number.\n",
    "\n",
    "```wasm\n",
    "(module\n",
    " (export \"fib\" (func $fib))\n",
    " (func $fib (param $n i32) (result i32)\n",
    "  (if\n",
    "   (i32.lt_s\n",
    "    (get_local $n)\n",
    "    (i32.const 2)\n",
    "   )\n",
    "   (return\n",
    "    (i32.const 1)\n",
    "   )\n",
    "  )\n",
    "  (return\n",
    "   (i32.add\n",
    "    (call $fib\n",
    "     (i32.sub\n",
    "      (get_local $n)\n",
    "      (i32.const 2)\n",
    "     )\n",
    "    )\n",
    "    (call $fib\n",
    "     (i32.sub\n",
    "      (get_local $n)\n",
    "      (i32.const 1)\n",
    "     )\n",
    "    )\n",
    "   )\n",
    "  )\n",
    " )\n",
    ")\n",
    "```"
   ]
  },
  {
   "cell_type": "markdown",
   "metadata": {},
   "source": [
    "#### Step 0: Preparation\n",
    "\n",
    "To use the wasmedge-sys crate in the evcxr_jupyter notebook, we use the following code to specify the path to the crate. The importing process costs 10 or more seconds approximately to compile the wasmedge-sys crate."
   ]
  },
  {
   "cell_type": "code",
   "execution_count": null,
   "metadata": {},
   "outputs": [],
   "source": [
    ":dep wasmedge-sys = { path = \"../../wasmedge-sys\" }\n",
    "\n",
    "println!(\"*** Step 0 done!\")"
   ]
  },
  {
   "cell_type": "markdown",
   "metadata": {},
   "source": [
    "#### Step 1: Create a WasmEdge AST Module.\n",
    "\n",
    "In this step,  we'll create a WasmEdge `AST Module` instance from a WebAssembly file. \n",
    "\n",
    "- First, create a `Loader` context; \n",
    "- Then, load a specified WebAssebly file (\"fibonacci.wasm\") via the `from_file` method of the `Loader` context. If the process is successful, then a WasmEdge `AST Module` instance is returned."
   ]
  },
  {
   "cell_type": "code",
   "execution_count": null,
   "metadata": {},
   "outputs": [],
   "source": [
    "use wasmedge_sys::Loader;\n",
    "use std::path::PathBuf;\n",
    "\n",
    "// create a Loader context\n",
    "let loader = Loader::create(None).expect(\"fail to create a Loader context\");\n",
    "\n",
    "// load a wasm module from a specified wasm file, and return a WasmEdge AST Module instance\n",
    "let path = PathBuf::from(\"fibonacci.wasm\");\n",
    "let mut module = loader.from_file(path).expect(\"fail to load the WebAssembly file\");\n",
    "\n",
    "println!(\"*** Step 1 done!\")"
   ]
  },
  {
   "cell_type": "markdown",
   "metadata": {},
   "source": [
    "#### Step 2: Create a WasmEdge `Vm` context.\n",
    "\n",
    "In WasmEdge, a `Vm` defines an running environment, in which all various of instances and contexts are stored and mantained. In the demo code below, we explicitly create a WasmEdge `Store` context, and then use it as one of inputs in the creation of a `Vm` context. If not specify a `Store` context explicily, then `Vm` will create a store by itself."
   ]
  },
  {
   "cell_type": "code",
   "execution_count": null,
   "metadata": {},
   "outputs": [],
   "source": [
    "use wasmedge_sys::{Config, Store, Vm};\n",
    "\n",
    "// create a Config context\n",
    "let result = Config::create();\n",
    "assert!(result.is_ok());\n",
    "let config = result.unwrap();\n",
    "\n",
    "// create a Store context\n",
    "let result = Store::create();\n",
    "assert!(result.is_ok(), \"Failed to create Store instance\");\n",
    "let store = result.unwrap();\n",
    "\n",
    "// create a Vm context with the given Config and Store\n",
    "let result = Vm::create(Some(&config), Some(&store));\n",
    "assert!(result.is_ok());\n",
    "let vm = result.unwrap();\n",
    "\n",
    "println!(\"*** Step 2 done!\")"
   ]
  },
  {
   "cell_type": "markdown",
   "metadata": {},
   "source": [
    "#### Step 3: Invoke the `fib` function.\n",
    "\n",
    "In [Step 1], we got a module which hosts the target `fib` function defined in the WebAssembly. Now, we can call the function via the `run_wasm_from_module` method of the `Vm` context by passing the exported function name, `fib`."
   ]
  },
  {
   "cell_type": "code",
   "execution_count": null,
   "metadata": {},
   "outputs": [],
   "source": [
    "use wasmedge_sys::Value;\n",
    "\n",
    "// run a function\n",
    "let result = vm.run_wasm_from_module(&mut module, \"fib\", [Value::from_i32(5)]);\n",
    "assert!(result.is_ok(), \"Failed to run the target function in the module\");\n",
    "let returns = result.unwrap();\n",
    "println!(\"The result of fib(5) is {}\", returns[0].to_i32());\n",
    "\n",
    "println!(\"*** Step 3 done!\")"
   ]
  }
 ],
 "metadata": {
  "kernelspec": {
   "display_name": "Rust",
   "language": "rust",
   "name": "rust"
  },
  "language_info": {
   "codemirror_mode": "rust",
   "file_extension": ".rs",
   "mimetype": "text/rust",
   "name": "Rust",
   "pygment_lexer": "rust",
   "version": ""
  }
 },
 "nbformat": 4,
 "nbformat_minor": 4
}
